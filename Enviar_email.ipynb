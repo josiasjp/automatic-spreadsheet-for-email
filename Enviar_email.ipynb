{
  "nbformat": 4,
  "nbformat_minor": 0,
  "metadata": {
    "colab": {
      "provenance": [],
      "mount_file_id": "1seTIEuD7HV9f-2Sj6MCnYB2n36TE5MM9",
      "authorship_tag": "ABX9TyNk5ruFmVgKItKmKh4ij0yL",
      "include_colab_link": true
    },
    "kernelspec": {
      "name": "python3",
      "display_name": "Python 3"
    }
  },
  "cells": [
    {
      "cell_type": "markdown",
      "metadata": {
        "id": "view-in-github",
        "colab_type": "text"
      },
      "source": [
        "<a href=\"https://colab.research.google.com/github/josiasjp/automatic-spreadsheet-for-email/blob/main/Enviar_email.ipynb\" target=\"_parent\"><img src=\"https://colab.research.google.com/assets/colab-badge.svg\" alt=\"Open In Colab\"/></a>"
      ]
    },
    {
      "cell_type": "code",
      "source": [
        "import pandas as pd #biblioteca de leitura do excel\n",
        "#importação para email smtplib email.message\n",
        "import smtplib\n",
        "import email.message\n",
        "#importar base de dados\n",
        "tabela_vendas = pd.read_excel(\"/content/drive/MyDrive/Colab Notebooks/intensivão/vendas.xlsx\")\n",
        "display(tabela_vendas)"
      ],
      "metadata": {
        "id": "d8BkmTLbgLiS"
      },
      "execution_count": null,
      "outputs": []
    },
    {
      "cell_type": "code",
      "metadata": {
        "id": "u-fQSH04DXQ-"
      },
      "source": [
        "#Calcular o faturamento da loja\n",
        "tabela_faturamento = tabela_vendas[[\"ID Loja\", \"Valor Final\"]].groupby(\"ID Loja\").sum() #filtar agrupar e somar tabela de tabela\n",
        "tabela_faturamento = tabela_faturamento.sort_values(by=\"Valor Final\", ascending=False)#ordenar tabela False=decrescente\n",
        "display(tabela_faturamento)"
      ],
      "execution_count": null,
      "outputs": []
    },
    {
      "cell_type": "code",
      "metadata": {
        "id": "9yk30qRoGQ70"
      },
      "source": [
        "#Quantidade de produtos vendidos em cada loja\n",
        "tabela_quantidade = tabela_vendas[[\"ID Loja\", \"Quantidade\"]].groupby(\"ID Loja\").sum()\n",
        "display(tabela_quantidade)"
      ],
      "execution_count": null,
      "outputs": []
    },
    {
      "cell_type": "code",
      "metadata": {
        "id": "pBawwe89EBNd"
      },
      "source": [
        "ticket_medio = (tabela_faturamento[\"Valor Final\"] / tabela_quantidade[\"Quantidade\"]).to_frame()#cria e formata uma nova tabela\n",
        "ticket_medio = ticket_medio.rename(columns={0:\"Ticket Medio\"})\n",
        "display(ticket_medio)"
      ],
      "execution_count": null,
      "outputs": []
    },
    {
      "cell_type": "code",
      "metadata": {
        "id": "lTo2Noj-Jipo"
      },
      "source": [
        "#função para enviar email 2 imports no corpo do projeto\n",
        "\n",
        "def enviar_email(nome_da_loja, tabela):\n",
        "\n",
        "  server = smtplib.SMTP('smtp.gmail.com:587')  \n",
        "  corpo_email = f\"\"\"\n",
        "  <p>prezados,</p>\n",
        "  <p>Segue Relatorio de Vendas</p>\n",
        "  {tabela.to_html()}\n",
        "  <p>QualQuer Duvida entrar em contato</p>\n",
        "\n",
        "  \"\"\"\n",
        "  \n",
        "  msg = email.message.Message()\n",
        "  msg['Subject'] = f\"Relatorio de vendas - {nome_da_loja}\"\n",
        "  \n",
        "  # Fazer antes (apenas na 1ª vez): Ativar Aplicativos não Seguros.\n",
        "  # Gerenciar Conta Google -> Segurança -> Aplicativos não Seguros -> Habilitar\n",
        "  # Caso mesmo assim dê o erro: smtplib.SMTPAuthenticationError: (534,\n",
        "  # Você faz o login no seu e-mail e depois entra em: https://accounts.google.com/DisplayUnlockCaptcha\n",
        "  msg['From'] = 'remetente@gmail.com'\n",
        "  msg['To'] = 'destinatario@gmail.com'\n",
        "  password = \"sua senha\"\n",
        "  msg.add_header('Content-Type', 'text/html')\n",
        "  msg.set_payload(corpo_email )\n",
        "  \n",
        "  s = smtplib.SMTP('smtp.gmail.com: 587')\n",
        "  s.starttls()\n",
        "  # Login Credentials for sending the mail\n",
        "  s.login(msg['From'], password)\n",
        "  s.sendmail(msg['From'], [msg['To']], msg.as_string().encode('utf-8'))\n",
        "  print('Email enviado')\n"
      ],
      "execution_count": null,
      "outputs": []
    },
    {
      "cell_type": "code",
      "metadata": {
        "id": "Aw1SSe9cJ2cS"
      },
      "source": [
        "tabela_completa = tabela_faturamento.join(tabela_quantidade).join(ticket_medio)#join equivale ao join sql\n",
        "display(tabela_completa)"
      ],
      "execution_count": null,
      "outputs": []
    },
    {
      "cell_type": "code",
      "metadata": {
        "colab": {
          "base_uri": "https://localhost:8080/",
          "height": 110
        },
        "id": "8UBAcAo8R3Mo",
        "outputId": "2eec40cc-262d-4312-9374-c278c675977a"
      },
      "source": [
        "lista_lojas = tabela_vendas[\"ID Loja\"].unique()\n",
        "for loja in lista_lojas:\n",
        "  tabela_loja = tabela_vendas.loc[tabela_vendas[\"ID Loja\"]== loja, [\"ID Loja\", \"Quantidade\", \"Valor Final\"]]\n",
        "  tabela_loja = tabela_loja.groupby(\"ID Loja\").sum()\n",
        "  tabela_loja[\"Ticket Medio\"] = tabela_loja[\"Valor Final\"] / tabela_loja[\"Quantidade\"]\n",
        "  display(tabela_loja)"
      ],
      "execution_count": null,
      "outputs": [
        {
          "output_type": "display_data",
          "data": {
            "text/html": [
              "<div>\n",
              "<style scoped>\n",
              "    .dataframe tbody tr th:only-of-type {\n",
              "        vertical-align: middle;\n",
              "    }\n",
              "\n",
              "    .dataframe tbody tr th {\n",
              "        vertical-align: top;\n",
              "    }\n",
              "\n",
              "    .dataframe thead th {\n",
              "        text-align: right;\n",
              "    }\n",
              "</style>\n",
              "<table border=\"1\" class=\"dataframe\">\n",
              "  <thead>\n",
              "    <tr style=\"text-align: right;\">\n",
              "      <th></th>\n",
              "      <th>Quantidade</th>\n",
              "      <th>Valor Final</th>\n",
              "      <th>Ticket Medio</th>\n",
              "    </tr>\n",
              "    <tr>\n",
              "      <th>ID Loja</th>\n",
              "      <th></th>\n",
              "      <th></th>\n",
              "      <th></th>\n",
              "    </tr>\n",
              "  </thead>\n",
              "  <tbody>\n",
              "    <tr>\n",
              "      <th>Rio Mar Recife</th>\n",
              "      <td>8863</td>\n",
              "      <td>1722766</td>\n",
              "      <td>194.377299</td>\n",
              "    </tr>\n",
              "  </tbody>\n",
              "</table>\n",
              "</div>"
            ],
            "text/plain": [
              "                Quantidade  Valor Final  Ticket Medio\n",
              "ID Loja                                              \n",
              "Rio Mar Recife        8863      1722766    194.377299"
            ]
          },
          "metadata": {
            "tags": []
          }
        }
      ]
    },
    {
      "cell_type": "code",
      "metadata": {
        "colab": {
          "base_uri": "https://localhost:8080/"
        },
        "id": "-vJPqJh8SBTr",
        "outputId": "a865dc29-e966-47af-8b27-850fc3c11aff"
      },
      "source": [
        "lista_lojas = tabela_vendas[\"ID Loja\"].unique()\n",
        "print(lista_lojas)"
      ],
      "execution_count": null,
      "outputs": [
        {
          "output_type": "stream",
          "text": [
            "['Iguatemi Esplanada' 'Norte Shopping' 'Rio Mar Shopping Fortaleza'\n",
            " 'Shopping Barra' 'Shopping Ibirapuera' 'Iguatemi Campinas'\n",
            " 'Shopping Center Leste Aricanduva' 'Passei das Águas Shopping'\n",
            " 'Shopping Recife' 'Shopping Midway Mall' 'Bourbon Shopping SP'\n",
            " 'Shopping Center Interlagos' 'Parque Dom Pedro Shopping'\n",
            " 'Center Shopping Uberlândia' 'Shopping União de Osasco'\n",
            " 'Shopping Eldorado' 'Shopping Vila Velha' 'Novo Shopping Ribeirão Preto'\n",
            " 'Rio Mar Recife' 'Palladium Shopping Curitiba' 'Shopping SP Market'\n",
            " 'Ribeirão Shopping' 'Shopping Iguatemi Fortaleza' 'Shopping Morumbi'\n",
            " 'Salvador Shopping']\n"
          ],
          "name": "stdout"
        }
      ]
    }
  ]
}