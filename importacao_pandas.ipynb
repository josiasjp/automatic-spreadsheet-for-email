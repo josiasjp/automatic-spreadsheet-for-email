{
  "nbformat": 4,
  "nbformat_minor": 0,
  "metadata": {
    "colab": {
      "provenance": [],
      "mount_file_id": "1gn3kqaTW6DasCn0yjDcOtRz5FOvWv6zL",
      "authorship_tag": "ABX9TyPeEvSjDKoijFnyqoQS0Biv",
      "include_colab_link": true
    },
    "kernelspec": {
      "display_name": "Python 3",
      "name": "python3"
    }
  },
  "cells": [
    {
      "cell_type": "markdown",
      "metadata": {
        "id": "view-in-github",
        "colab_type": "text"
      },
      "source": [
        "<a href=\"https://colab.research.google.com/github/josiasjp/automatic-spreadsheet-for-email/blob/main/importacao_pandas.ipynb\" target=\"_parent\"><img src=\"https://colab.research.google.com/assets/colab-badge.svg\" alt=\"Open In Colab\"/></a>"
      ]
    },
    {
      "cell_type": "code",
      "metadata": {
        "colab": {
          "background_save": true
        },
        "id": "nohmIjqJDDIZ"
      },
      "source": [
        "import pandas as pd #importação do excel\n",
        "\n",
        "\n",
        "\n",
        "#importar base de dados e tratar os dados\n",
        "tabela_cliente = pd.read_csv(\"/content/drive/MyDrive/Colab Notebooks/ClientesBanco.csv\", encoding=\"latin1\")\n",
        "tabela_cliente = tabela_cliente.drop(\"CLIENTNUM\", axis=1)# apagar varias colunas primeiraemtro entre []\n",
        "\n"
      ],
      "execution_count": null,
      "outputs": []
    },
    {
      "cell_type": "code",
      "metadata": {
        "id": "3KS4Q4KhMPEN"
      },
      "source": [
        " # informação dos dados\n",
        " display(tabela_cliente.info())"
      ],
      "execution_count": null,
      "outputs": []
    },
    {
      "cell_type": "code",
      "metadata": {
        "id": "S5a4xomsNLIG"
      },
      "source": [
        "tabela_cliente = tabela_cliente.dropna()#exclui linhas vazias\n",
        "display(tabela_cliente.info())"
      ],
      "execution_count": null,
      "outputs": []
    },
    {
      "cell_type": "code",
      "metadata": {
        "id": "4YnVfUBRNwiM"
      },
      "source": [
        "display(tabela_cliente.describe())#analise de todos os dados numericos"
      ],
      "execution_count": null,
      "outputs": []
    },
    {
      "cell_type": "code",
      "metadata": {
        "id": "6hcqhORhPzcY"
      },
      "source": [
        "#analise de dados - primeira coisa que se faz e como esta distribuidos os valores que queremos entender\n",
        "#descobrir pq os clientes cancelaram o cartão\n",
        "print('------quantidade-----')\n",
        "display(tabela_cliente[\"Categoria\"].value_counts())# conta valores da tabela ou coluna\n",
        "print('------quantidade percentual-----')\n",
        "display(tabela_cliente[\"Categoria\"].value_counts(normalize=True))#em percentual\n"
      ],
      "execution_count": null,
      "outputs": []
    },
    {
      "cell_type": "code",
      "metadata": {
        "id": "7eXO0A24P-1W"
      },
      "source": [
        "#pesquisar regra de pareto\n",
        "#cliação de graficos 1 - criação de figura(px.histogram) 2-exibir a figura(fig.show())\n",
        "#histograma\n",
        "\n",
        "import plotly.express as px #criação de graficos\n",
        "\n",
        "for coluna in tabela_cliente:#tabela_cliente.index() percorreria linhas \n",
        "  fig = px.histogram(tabela_cliente, x=coluna, color=\"Categoria\")#x dados da tabela - color divisao de cor\n",
        "  fig.show()\n",
        "\n",
        "\n",
        "#analise de dados\n"
      ],
      "execution_count": null,
      "outputs": []
    }
  ]
}